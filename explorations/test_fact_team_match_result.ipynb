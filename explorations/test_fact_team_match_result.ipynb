{
 "cells": [
  {
   "cell_type": "code",
   "execution_count": 0,
   "metadata": {
    "application/vnd.databricks.v1+cell": {
     "cellMetadata": {
      "byteLimit": 2048000,
      "rowLimit": 10000
     },
     "inputWidgets": {},
     "nuid": "7340b32e-4235-4424-a55d-88f0aa54f724",
     "showTitle": false,
     "tableResultSettingsMap": {},
     "title": ""
    }
   },
   "outputs": [],
   "source": [
    "from src.schemas.fields import (\n",
    "    TableNames, CommonFields, FixtureStatsFields, FixtureFields,\n",
    "    DateFields, TeamFields, LeagueFields, FactMatchStatisticFields\n",
    ")\n",
    "from src.schemas.fact_match_statistics_schema import FactMatchStatisticsSchema\n",
    "from pyspark.sql.functions import col, row_number\n",
    "from pyspark.sql.window import Window\n",
    "from pyspark.sql.types import LongType\n",
    "from src.utils.football_utils import DataFrameFootballUtils"
   ]
  },
  {
   "cell_type": "code",
   "execution_count": 0,
   "metadata": {
    "application/vnd.databricks.v1+cell": {
     "cellMetadata": {
      "byteLimit": 2048000,
      "implicitDf": true,
      "rowLimit": 10000
     },
     "inputWidgets": {},
     "nuid": "b8d8dc85-5ab8-417c-b259-5887090e5fa6",
     "showTitle": false,
     "tableResultSettingsMap": {},
     "title": ""
    }
   },
   "outputs": [],
   "source": [
    "%sql\n",
    "USE CATALOG `football-analyze-v1`;\n",
    "USE SCHEMA `football`;"
   ]
  },
  {
   "cell_type": "code",
   "execution_count": 0,
   "metadata": {
    "application/vnd.databricks.v1+cell": {
     "cellMetadata": {
      "byteLimit": 2048000,
      "rowLimit": 10000
     },
     "inputWidgets": {},
     "nuid": "55635887-3844-4dd8-9eda-bb9ed3b9e672",
     "showTitle": false,
     "tableResultSettingsMap": {},
     "title": ""
    }
   },
   "outputs": [],
   "source": [
    "dim_fixtures_df = spark.read.table(f\"gold.{TableNames.DIM_FIXTURES}\")\n",
    "dim_fixture_stats_df = spark.read.table(f\"gold.{TableNames.DIM_FIXTURE_STATS}\")\n",
    "dim_teams_df = spark.read.table(f\"gold.{TableNames.DIM_TEAMS}\")\n",
    "dim_leagues_df = spark.read.table(f\"gold.{TableNames.DIM_LEAGUES}\")\n",
    "dim_dates_df = spark.read.table(f\"gold.{TableNames.DIM_DATES}\")\n",
    "\n",
    "# Join dim tables\n",
    "fact_match_stats_df = (\n",
    "    dim_fixture_stats_df.alias(\"dim_fixture_stats\")\n",
    "    .join(\n",
    "        dim_teams_df.alias(\"dim_team\"),\n",
    "        col(f'dim_team.{CommonFields.TEAM_ID}') == col(f'dim_fixture_stats.{CommonFields.TEAM_ID}'),\n",
    "        \"left\"\n",
    "    )\n",
    "    .join(\n",
    "        dim_fixtures_df.alias(\"dim_fixtures\"),\n",
    "        col(f'dim_fixtures.{CommonFields.FIXTURE_ID}') == col(f'dim_fixture_stats.{CommonFields.FIXTURE_ID}'),\n",
    "        \"left\"\n",
    "    )\n",
    "    .join(\n",
    "        dim_leagues_df.alias(\"dim_leagues\"),\n",
    "        col(f'dim_leagues.{CommonFields.LEAGUE_ID}') == col(f'dim_fixtures.{CommonFields.LEAGUE_ID}'),\n",
    "        \"left\"\n",
    "    )\n",
    "    .join(\n",
    "        dim_dates_df.alias(\"dim_dates\"),\n",
    "        col(f'dim_dates.{DateFields.DATE}') == col(f'dim_fixtures.{FixtureFields.DATE}'),\n",
    "        \"left\"\n",
    "    )\n",
    ")\n",
    "\n",
    "fact_match_stats_df.show(2)"
   ]
  }
 ],
 "metadata": {
  "application/vnd.databricks.v1+notebook": {
   "computePreferences": null,
   "dashboards": [],
   "environmentMetadata": {
    "base_environment": "",
    "environment_version": "3"
   },
   "inputWidgetPreferences": null,
   "language": "python",
   "notebookMetadata": {
    "mostRecentlyExecutedCommandWithImplicitDF": {
     "commandId": 5320536574469752,
     "dataframes": [
      "_sqldf"
     ]
    },
    "pythonIndentUnit": 4
   },
   "notebookName": "test_fact_team_match_result",
   "widgets": {}
  },
  "language_info": {
   "name": "python"
  }
 },
 "nbformat": 4,
 "nbformat_minor": 0
}
