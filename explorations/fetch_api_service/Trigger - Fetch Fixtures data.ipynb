{
 "cells": [
  {
   "cell_type": "code",
   "execution_count": 0,
   "metadata": {
    "application/vnd.databricks.v1+cell": {
     "cellMetadata": {},
     "inputWidgets": {},
     "nuid": "a80e163a-1e90-4c17-9a01-4ec7d9152ead",
     "showTitle": false,
     "tableResultSettingsMap": {},
     "title": ""
    }
   },
   "outputs": [],
   "source": [
    "rootUrl = dbutils.secrets.get(scope=\"football-analyze\", key=\"api-url\")\n",
    "api_key = dbutils.secrets.get(scope=\"football-analyze\", key=\"api-key\")\n",
    "api_host = \"v3.football.api-sports.io\"\n",
    "# Define headers\n",
    "headers = {\n",
    "    'x-rapidapi-host': api_host,\n",
    "    'x-rapidapi-key': api_key\n",
    "}\n",
    "\n",
    "REQUESTS_PER_MINUTE = 10\n",
    "DELAY = 60 / REQUESTS_PER_MINUTE  # 6 seconds between requests"
   ]
  },
  {
   "cell_type": "code",
   "execution_count": 0,
   "metadata": {
    "application/vnd.databricks.v1+cell": {
     "cellMetadata": {},
     "inputWidgets": {},
     "nuid": "2466ab48-578a-4d26-9723-bf7a39cd3936",
     "showTitle": false,
     "tableResultSettingsMap": {},
     "title": ""
    }
   },
   "outputs": [],
   "source": [
    "\n",
    "from src.api.api_handler import APIError, APIRequestHandler\n",
    "from src.api.endpoints import FIXTURE_ENDPOINT\n",
    "from src.utils.football_utils import FootballUtils\n",
    "import concurrent.futures\n",
    "from itertools import chain\n",
    "import requests\n",
    "import json\n",
    "from datetime import datetime\n",
    "from src.schemas.fields import TableNames, CommonFields, OtherFields\n",
    "\n",
    "def fetch_fixtures(league_id, season=2023):\n",
    "    with APIRequestHandler(base_url=rootUrl) as api:\n",
    "        try:\n",
    "            response = api.fetch_with_rate_limit(\n",
    "                DELAY,\n",
    "                headers,\n",
    "                FIXTURE_ENDPOINT,\n",
    "                params={'league': league_id, 'season': season}\n",
    "            )\n",
    "            fixtures_data = response.get('response', [])\n",
    "            return fixtures_data\n",
    "        except APIError as e:\n",
    "            raise Exception(\"API Error: \", e)\n",
    "        except Exception as e:\n",
    "            raise Exception(\"Unexpected error: \", e)\n",
    "\n",
    "def process_combination_fetch_teams():\n",
    "    # Generate all league_id/year combinations\n",
    "    with FootballUtils(DESIRED_LEAGUES, AVAILABLE_SEASON) as football_utils:\n",
    "        combinations = football_utils.combineLeagueAndSeason()\n",
    "\n",
    "    results = []\n",
    "\n",
    "    # Process with controlled parallelism\n",
    "    with concurrent.futures.ThreadPoolExecutor(max_workers=2) as executor:\n",
    "        # Map combinations to fetch_teams function\n",
    "        future_to_combo = {\n",
    "            executor.submit(fetch_teams, league_id, year): (league_id, year)\n",
    "            for league_id, year in combinations\n",
    "        }\n",
    "\n",
    "        # Collect results as they complete\n",
    "        for future in concurrent.futures.as_completed(future_to_combo):\n",
    "            league_id, year = future_to_combo[future]\n",
    "            try:\n",
    "                result = future.result()\n",
    "                results.append(result)\n",
    "            except Exception as e:\n",
    "                print(f\"Processing failed for {league_id}/{year}: {str(e)}\")\n",
    "    return results"
   ]
  },
  {
   "cell_type": "code",
   "execution_count": 0,
   "metadata": {
    "application/vnd.databricks.v1+cell": {
     "cellMetadata": {},
     "inputWidgets": {},
     "nuid": "cb6758fc-3fed-42fd-9c73-95ae6e658166",
     "showTitle": false,
     "tableResultSettingsMap": {},
     "title": ""
    }
   },
   "outputs": [],
   "source": [
    "with FootballUtils(DESIRED_LEAGUES, AVAILABLE_SEASON) as football_utils:\n",
    "    combinations = football_utils.combineLeagueAndSeason()\n",
    "\n",
    " with concurrent.futures.ThreadPoolExecutor(max_workers=2) as executor:\n",
    "    # Map combinations to fetch_teams function\n",
    "    future_to_combo = {\n",
    "        executor.submit(fetch_fixtures, league_id, year): (league_id, year)\n",
    "        for league_id, year in combinations\n",
    "    }\n",
    "\n",
    "    for future in concurrent.futures.as_completed(future_to_combo):\n",
    "        league_id, year = future_to_combo[future]\n",
    "        try:\n",
    "            result = future.result()\n",
    "            if not result:\n",
    "                raise Exception('Empty fixture data')\n",
    "\n",
    "            json_data = json.dumps(result, indent=2)\n",
    "            file_name = f\"/Volumes/football-analyze-v1/football/api-raw-data/fixtures/fixture_{league_id}_{year}.json\"\n",
    "            # Save JSON file format\n",
    "            dbutils.fs.put(file_name, json_data, True)\n",
    "\n",
    "            # Initialize JSON file for keeping track of fixture stats by League\n",
    "            stats_league_json = {\n",
    "                CommonFields.LEAGUE_ID: league_id,\n",
    "                \"year\": year,\n",
    "                OtherFields.TOTAL_FIXTURES: len(result),\n",
    "                OtherFields.FETCHED_COUNT: 0,\n",
    "                OtherFields.FETCHED_PERCENTAGE: 0.0,\n",
    "                OtherFields.IS_COMPLETE: False,\n",
    "                OtherFields.LAST_UPDATED: str(datetime.now())\n",
    "            }\n",
    "            league_stat_list.append(stats_league_json)\n",
    "            # -----------------------------------------\n",
    "\n",
    "            tracking_staging.append({\n",
    "                \"league_id\": league_id,\n",
    "                \"year\": year,\n",
    "                \"file_name\": file_name,\n",
    "                \"row_counts\": len(result),\n",
    "                \"ingestion_timestamp\": str(datetime.now())\n",
    "            })\n",
    "        except Exception as e:\n",
    "            raise Exception(f\"Processing failed for Fixture {league_id}/{year}: {str(e)}\")\n",
    "\n",
    "    stats_league_json = json.dumps(league_stat_list, indent=2)\n",
    "    league_tracking_file_name = f\"/Volumes/football-analyze-v1/football/api-raw-data/tracking/fixture_stat_league/league_progress.json\"\n",
    "    dbutils.fs.put(league_tracking_file_name, stats_league_json, True)\n"
   ]
  }
 ],
 "metadata": {
  "application/vnd.databricks.v1+notebook": {
   "computePreferences": null,
   "dashboards": [],
   "environmentMetadata": {
    "base_environment": "",
    "environment_version": "3"
   },
   "inputWidgetPreferences": null,
   "language": "python",
   "notebookMetadata": {
    "pythonIndentUnit": 4
   },
   "notebookName": "Trigger - Fetch Fixtures data",
   "widgets": {}
  },
  "language_info": {
   "name": "python"
  }
 },
 "nbformat": 4,
 "nbformat_minor": 0
}
