{
 "cells": [
  {
   "cell_type": "markdown",
   "metadata": {
    "application/vnd.databricks.v1+cell": {
     "cellMetadata": {},
     "inputWidgets": {},
     "nuid": "0deba4ca-e5bc-42e6-826d-2a42a7f3dcc9",
     "showTitle": false,
     "tableResultSettingsMap": {},
     "title": ""
    }
   },
   "source": [
    "## Fetch Team data based on the League ID and Season (year)\n",
    "## For learning purpose, we pre define the league id list and available season"
   ]
  },
  {
   "cell_type": "code",
   "execution_count": 0,
   "metadata": {
    "application/vnd.databricks.v1+cell": {
     "cellMetadata": {},
     "inputWidgets": {},
     "nuid": "e75b4f29-bd73-4f68-aeb5-25baec93f5a8",
     "showTitle": false,
     "tableResultSettingsMap": {},
     "title": ""
    }
   },
   "outputs": [],
   "source": [
    "DESIRED_LEAGUES = [140, 39, 45, 2, 3, 143, 135]\n",
    "AVAILABLE_SEASON = [2022, 2023]\n",
    "\n",
    "rootUrl = dbutils.secrets.get(scope=\"football-analyze\", key=\"api-url\")\n",
    "api_key = dbutils.secrets.get(scope=\"football-analyze\", key=\"api-key\")\n",
    "api_host = \"v3.football.api-sports.io\"\n",
    "\n",
    "# Define headers\n",
    "headers = {\n",
    "    'x-rapidapi-host': api_host,\n",
    "    'x-rapidapi-key': api_key\n",
    "}\n",
    "\n",
    "REQUESTS_PER_MINUTE = 10\n",
    "DELAY = 60 / REQUESTS_PER_MINUTE  "
   ]
  },
  {
   "cell_type": "code",
   "execution_count": 0,
   "metadata": {
    "application/vnd.databricks.v1+cell": {
     "cellMetadata": {},
     "inputWidgets": {},
     "nuid": "ee1632f2-e970-4ef8-a5b4-85e6385b7941",
     "showTitle": false,
     "tableResultSettingsMap": {},
     "title": ""
    }
   },
   "outputs": [],
   "source": [
    "\n",
    "from src.api.api_handler import APIError, APIRequestHandler\n",
    "from src.api.endpoints import TEAMS_ENDPOINT\n",
    "from src.utils.football_utils import FootballUtils\n",
    "import concurrent.futures\n",
    "from itertools import chain\n",
    "import requests\n",
    "import json\n",
    "from datetime import datetime\n",
    "\n",
    "\n",
    "def fetch_teams(league_id, season=2023):\n",
    "    with APIRequestHandler(base_url=rootUrl) as api:\n",
    "        try:\n",
    "            response = api.fetch_with_rate_limit(\n",
    "                DELAY,\n",
    "                headers,\n",
    "                TEAMS_ENDPOINT,\n",
    "                params={'league': league_id, 'season': season})\n",
    "            teams_data = response.get('response', [])\n",
    "            if teams_data:\n",
    "                print(f'There are {len(teams_data)} teams for League ID: {league_id} in season {season}')\n",
    "            return teams_data\n",
    "        except APIError as e:\n",
    "            raise Exception(\"API Error: \", e)\n",
    "        except Exception as e:\n",
    "            raise Exception(\"Unexpected error: \", e)\n",
    "\n",
    "def process_combination_fetch_teams():\n",
    "    # Generate all league_id/year combinations\n",
    "    with FootballUtils(DESIRED_LEAGUES, AVAILABLE_SEASON) as football_utils:\n",
    "        combinations = football_utils.combineLeagueAndSeason()\n",
    "\n",
    "    results = []\n",
    "\n",
    "    # Process with controlled parallelism\n",
    "    with concurrent.futures.ThreadPoolExecutor(max_workers=2) as executor:\n",
    "        # Map combinations to fetch_teams function\n",
    "        future_to_combo = {\n",
    "            executor.submit(fetch_teams, league_id, year): (league_id, year)\n",
    "            for league_id, year in combinations\n",
    "        }\n",
    "\n",
    "        # Collect results as they complete\n",
    "        for future in concurrent.futures.as_completed(future_to_combo):\n",
    "            league_id, year = future_to_combo[future]\n",
    "            try:\n",
    "                result = future.result()\n",
    "                results.append(result)\n",
    "            except Exception as e:\n",
    "                print(f\"Processing failed for {league_id}/{year}: {str(e)}\")\n",
    "    return results"
   ]
  },
  {
   "cell_type": "code",
   "execution_count": 0,
   "metadata": {
    "application/vnd.databricks.v1+cell": {
     "cellMetadata": {},
     "inputWidgets": {},
     "nuid": "9423fd9c-cd56-48b3-b0e9-f636c0360714",
     "showTitle": false,
     "tableResultSettingsMap": {},
     "title": ""
    }
   },
   "outputs": [],
   "source": [
    "# Generate all league_id/year combinations\n",
    "with FootballUtils(DESIRED_LEAGUES, AVAILABLE_SEASON) as football_utils:\n",
    "    combinations = football_utils.combineLeagueAndSeason()\n",
    "\n",
    "with concurrent.futures.ThreadPoolExecutor(max_workers=2) as executor:\n",
    "    # Map combinations to fetch_teams function\n",
    "    future_to_combo = {\n",
    "        executor.submit(fetch_teams, league_id, year): (league_id, year)\n",
    "        for league_id, year in combinations\n",
    "    }\n",
    "\n",
    "    for future in concurrent.futures.as_completed(future_to_combo):\n",
    "        league_id, year = future_to_combo[future]\n",
    "        try:\n",
    "            result = future.result()\n",
    "            if not result:\n",
    "                raise Exception('Empty team data')\n",
    "            json_data = json.dumps(result, indent=2)\n",
    "            file_name = f\"/Volumes/football-analyze-v1/football/api-raw-data/teams/teams_{league_id}_{year}.json\"\n",
    "            # Save JSON file format\n",
    "            dbutils.fs.put(file_name, json_data, True)\n",
    "        except Exception as e:\n",
    "            raise Exception(f\"Processing failed for {league_id}/{year}: {str(e)}\")"
   ]
  }
 ],
 "metadata": {
  "application/vnd.databricks.v1+notebook": {
   "computePreferences": null,
   "dashboards": [],
   "environmentMetadata": {
    "base_environment": "",
    "environment_version": "3"
   },
   "inputWidgetPreferences": null,
   "language": "python",
   "notebookMetadata": {
    "pythonIndentUnit": 4
   },
   "notebookName": "Trigger - Fetch Team data",
   "widgets": {}
  },
  "language_info": {
   "name": "python"
  }
 },
 "nbformat": 4,
 "nbformat_minor": 0
}
