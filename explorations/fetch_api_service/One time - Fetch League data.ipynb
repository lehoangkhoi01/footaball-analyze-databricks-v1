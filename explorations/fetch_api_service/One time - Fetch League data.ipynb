{
 "cells": [
  {
   "cell_type": "code",
   "execution_count": 0,
   "metadata": {
    "application/vnd.databricks.v1+cell": {
     "cellMetadata": {},
     "inputWidgets": {},
     "nuid": "15bd0aa6-a75c-4879-bcbd-800db91fd7d4",
     "showTitle": false,
     "tableResultSettingsMap": {},
     "title": ""
    }
   },
   "outputs": [],
   "source": [
    "from src.api.api_handler import APIError, APIRequestHandler\n",
    "from src.api.endpoints import LEAGUES_ENDPOINT\n",
    "import requests\n",
    "import json\n",
    "from datetime import datetime\n",
    "\n",
    "\n",
    "rootUrl = dbutils.secrets.get(scope=\"football-analyze\", key=\"api-url\")\n",
    "api_key = dbutils.secrets.get(scope=\"football-analyze\", key=\"api-key\")\n",
    "api_host = \"v3.football.api-sports.io\"\n",
    "# Define headers\n",
    "headers = {\n",
    "    'x-rapidapi-host': api_host,\n",
    "    'x-rapidapi-key': api_key\n",
    "}\n",
    "\n",
    "with APIRequestHandler(base_url=rootUrl) as api:\n",
    "    api.set_headers(headers)\n",
    "    try:\n",
    "        # GET request\n",
    "        response = api.get(LEAGUES_ENDPOINT)\n",
    "        resultCount = response.__getitem__('results')\n",
    "        data = response.__getitem__('response')\n",
    "        if not resultCount:\n",
    "            raise Exception(\"No result\")\n",
    "        else:\n",
    "            # Save JSON file in Volume\n",
    "            dbutils.fs.put(\n",
    "                f\"{raw_data_storage_location}/leagues/leagues.json\",\n",
    "                json.dumps(data, indent=2),\n",
    "                True\n",
    "            )\n",
    "\n",
    "            processed_data = []\n",
    "            for i, item in enumerate(data):\n",
    "                processed_data.append({\n",
    "                    \"record_id\": i,\n",
    "                    \"json_data\": json.dumps(item),\n",
    "                    \"ingestion_timestamp\": str(datetime.now())\n",
    "                })\n",
    "            return spark.createDataFrame(processed_data)\n",
    "        except APIError as e:\n",
    "            raise Exception(f\"API Error: {e}\")\n",
    "        except Exception as e:\n",
    "            raise Exception(f\"Unexpected error: {e}\")"
   ]
  }
 ],
 "metadata": {
  "application/vnd.databricks.v1+notebook": {
   "computePreferences": null,
   "dashboards": [],
   "environmentMetadata": {
    "base_environment": "",
    "environment_version": "3"
   },
   "inputWidgetPreferences": null,
   "language": "python",
   "notebookMetadata": {
    "pythonIndentUnit": 4
   },
   "notebookName": "One time - Fetch League data",
   "widgets": {}
  },
  "language_info": {
   "name": "python"
  }
 },
 "nbformat": 4,
 "nbformat_minor": 0
}
