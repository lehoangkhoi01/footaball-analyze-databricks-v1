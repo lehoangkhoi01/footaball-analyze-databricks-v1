{
 "cells": [
  {
   "cell_type": "code",
   "execution_count": 0,
   "metadata": {
    "application/vnd.databricks.v1+cell": {
     "cellMetadata": {
      "byteLimit": 2048000,
      "implicitDf": true,
      "rowLimit": 10000
     },
     "inputWidgets": {},
     "nuid": "8888fe41-5a6a-42d5-b380-6f329d50e2dc",
     "showTitle": false,
     "tableResultSettingsMap": {},
     "title": ""
    }
   },
   "outputs": [],
   "source": [
    "%sql\n",
    "USE CATALOG `football-analyze-v1`;\n",
    "USE SCHEMA `football`;\n",
    "SELECT current_catalog(), current_schema()"
   ]
  },
  {
   "cell_type": "code",
   "execution_count": 0,
   "metadata": {
    "application/vnd.databricks.v1+cell": {
     "cellMetadata": {
      "byteLimit": 2048000,
      "rowLimit": 10000
     },
     "inputWidgets": {},
     "nuid": "cbc912fe-67de-4512-8821-00fa74b3ebec",
     "showTitle": false,
     "tableResultSettingsMap": {},
     "title": ""
    }
   },
   "outputs": [],
   "source": [
    "from src.schemas.fields import TableNames\n",
    "from src.utils.fixture_stats_tracking_util import FixtureStatsHandler\n",
    "\n",
    "fixture_tracking_df = spark.read.table(f\"bronze.{TableNames.BRONZE_TRACKING_FETCH_FIXTURE_STAT}\")\n",
    "league_progress_tracking_df = spark.read.table(f\"bronze.{TableNames.BRONZE_TRACKING_FETCH_FIXTURE_STAT_LEAGUE}\")\n",
    "\n",
    "handler = FixtureStatsHandler(\n",
    "    fixture_stats_tracking_df = fixture_tracking_df,\n",
    "    league_progress_tracking_df = league_progress_tracking_df,\n",
    "    spark = spark\n",
    ")\n",
    "\n",
    "#handler.mark_fixtures_fetched(fixture_ids = [\"1035037\", \"1035038\"], league_id = 39)\n",
    "#league_obj = handler.get_incomplete_leagues()\n",
    "fixture_to_fetch = handler.get_next_fixtures_to_fetch(limit=3)\n",
    "print(fixture_to_fetch)\n",
    "\n"
   ]
  }
 ],
 "metadata": {
  "application/vnd.databricks.v1+notebook": {
   "computePreferences": {
    "hardware": {
     "accelerator": null,
     "gpuPoolId": null,
     "memory": null
    }
   },
   "dashboards": [],
   "environmentMetadata": {
    "base_environment": "",
    "environment_version": "2"
   },
   "inputWidgetPreferences": null,
   "language": "python",
   "notebookMetadata": {
    "mostRecentlyExecutedCommandWithImplicitDF": {
     "commandId": 5384846860901641,
     "dataframes": [
      "_sqldf"
     ]
    },
    "pythonIndentUnit": 4
   },
   "notebookName": "Fixture stats tracking",
   "widgets": {}
  },
  "language_info": {
   "name": "python"
  }
 },
 "nbformat": 4,
 "nbformat_minor": 0
}
