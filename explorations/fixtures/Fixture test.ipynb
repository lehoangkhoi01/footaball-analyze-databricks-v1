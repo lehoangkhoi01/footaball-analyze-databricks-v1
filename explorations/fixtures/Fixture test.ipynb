{
 "cells": [
  {
   "cell_type": "code",
   "execution_count": 0,
   "metadata": {
    "application/vnd.databricks.v1+cell": {
     "cellMetadata": {},
     "inputWidgets": {},
     "nuid": "f5dce855-3d92-44d6-9e21-3f151ae66be7",
     "showTitle": false,
     "tableResultSettingsMap": {},
     "title": ""
    }
   },
   "outputs": [],
   "source": [
    "import dlt\n",
    "import requests\n",
    "import json\n",
    "from datetime import datetime\n",
    "from src.api.endpoints import FIXTURE_ENDPOINT\n",
    "from pyspark.sql.functions import *\n",
    "from pyspark.sql import SparkSession\n",
    "from src.api.api_handler import APIError, APIRequestHandler\n",
    "from src.schemas.fields import TableNames\n",
    "from src.utils.football_utils import FootballUtils\n",
    "import concurrent.futures\n",
    "from itertools import chain"
   ]
  },
  {
   "cell_type": "code",
   "execution_count": 0,
   "metadata": {
    "application/vnd.databricks.v1+cell": {
     "cellMetadata": {},
     "inputWidgets": {},
     "nuid": "17dcf934-dc12-441a-9521-a801797cab11",
     "showTitle": false,
     "tableResultSettingsMap": {},
     "title": ""
    }
   },
   "outputs": [],
   "source": [
    "spark.sql(\"USE SCHEMA `staging`\")\n",
    "rootUrl = dbutils.secrets.get(scope=\"football-analyze\", key=\"api-url\")\n",
    "api_key = dbutils.secrets.get(scope=\"football-analyze\", key=\"api-key\")\n",
    "\n",
    "# Define headers\n",
    "headers = {\n",
    "    'x-rapidapi-host': api_host,\n",
    "    'x-rapidapi-key': api_key\n",
    "}\n",
    "\n",
    "REQUESTS_PER_MINUTE = 10\n",
    "DELAY = 60 / REQUESTS_PER_MINUTE  # 6 seconds between requests\n",
    "\n",
    "def fetch_fixtures(league_id, season=2023):\n",
    "    with APIRequestHandler(base_url=rootUrl) as api:\n",
    "        try:\n",
    "            response = api.fetch_with_rate_limit(\n",
    "                DELAY,\n",
    "                headers,\n",
    "                FIXTURE_ENDPOINT,\n",
    "                params={'league': league_id, 'season': season}\n",
    "            )\n",
    "            fixtures_data = response.get('response', [])\n",
    "            return fixtures_data\n",
    "        except APIError as e:\n",
    "            raise Exception(\"API Error: \", e)\n",
    "        except Exception as e:\n",
    "            raise Exception(\"Unexpected error: \", e)\n"
   ]
  }
 ],
 "metadata": {
  "application/vnd.databricks.v1+notebook": {
   "computePreferences": null,
   "dashboards": [],
   "environmentMetadata": {
    "base_environment": "",
    "environment_version": "2"
   },
   "inputWidgetPreferences": null,
   "language": "python",
   "notebookMetadata": {
    "pythonIndentUnit": 4
   },
   "notebookName": "Fixture test",
   "widgets": {}
  },
  "language_info": {
   "name": "python"
  }
 },
 "nbformat": 4,
 "nbformat_minor": 0
}
